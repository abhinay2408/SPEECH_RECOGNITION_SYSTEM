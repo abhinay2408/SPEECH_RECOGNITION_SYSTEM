{
 "cells": [
  {
   "cell_type": "markdown",
   "id": "704d7e87",
   "metadata": {},
   "source": [
    "# Speech Recognition System\n",
    "This notebook demonstrates a basic **Speech-to-Text** system using the `speech_recognition` library and Google Web Speech API.\n",
    "\n",
    "It can transcribe speech from:\n",
    "- A short `.wav` audio file\n",
    "- Microphone input (if available)\n",
    "\n",
    "⚠️ Note: Requires an internet connection to access the Google API."
   ]
  },
  {
   "cell_type": "code",
   "execution_count": 1,
   "id": "288c390e-0719-4ed7-a269-f02f84cce183",
   "metadata": {},
   "outputs": [
    {
     "name": "stdout",
     "output_type": "stream",
     "text": [
      "Requirement already satisfied: SpeechRecognition in c:\\users\\abhin\\anaconda3\\lib\\site-packages (3.14.3)\n",
      "Requirement already satisfied: pyaudio in c:\\users\\abhin\\anaconda3\\lib\\site-packages (0.2.14)\n",
      "Requirement already satisfied: typing-extensions in c:\\users\\abhin\\anaconda3\\lib\\site-packages (from SpeechRecognition) (4.11.0)\n"
     ]
    }
   ],
   "source": [
    "!pip install SpeechRecognition pyaudio"
   ]
  },
  {
   "cell_type": "code",
   "execution_count": 11,
   "id": "75895815-be8a-4786-917e-48f8d5f60889",
   "metadata": {},
   "outputs": [],
   "source": [
    "# Import required libraries for file operations and speech recognition\n",
    "import os\n",
    "import speech_recognition as sr\n",
    "import time"
   ]
  },
  {
   "cell_type": "code",
   "execution_count": 12,
   "id": "eef7daba-a3ab-4929-8022-b6f285b87261",
   "metadata": {},
   "outputs": [],
   "source": [
    "# Function to transcribe audio from a file\n",
    "def transcribe_audio_file(file_path):\n",
    "    recognizer = sr.Recognizer()\n",
    "    \n",
    "    # Check if the file exists to avoid unnecessary processing\n",
    "    if not os.path.exists(file_path):\n",
    "        print(f\"The file at {file_path} was not found. Please check the file path.\")\n",
    "        return  \n",
    "    \n",
    "    try:\n",
    "        # Open the audio file and read the audio data into memory\n",
    "        with sr.AudioFile(file_path) as source:\n",
    "            print(\"Processing audio file...\")\n",
    "            audio = recognizer.record(source)\n",
    "        \n",
    "        try:\n",
    "            # Use Google's speech recognition API to transcribe the audio content\n",
    "            print(\"Transcription: \" + recognizer.recognize_google(audio))\n",
    "        except sr.UnknownValueError:\n",
    "            print(\"Could not understand the audio.\")\n",
    "        except sr.RequestError as e:\n",
    "            print(f\"Error with the API request; {e}\")\n",
    "    \n",
    "    except FileNotFoundError:\n",
    "        print(\"The file was not found. Please check the file path.\")\n",
    "    except Exception as e:\n",
    "        print(f\"An error occurred: {e}\")\n"
   ]
  },
  {
   "cell_type": "code",
   "execution_count": 13,
   "id": "39c8d666-7c0b-405c-89bc-b695992bf212",
   "metadata": {},
   "outputs": [],
   "source": [
    "# Function to transcribe audio from the microphone\n",
    "def transcribe_from_microphone(duration=5):\n",
    "    recognizer = sr.Recognizer()\n",
    "    \n",
    "    with sr.Microphone() as source:\n",
    "        print(\"Please say something...\")\n",
    "        recognizer.adjust_for_ambient_noise(source)\n",
    "        audio = recognizer.listen(source, timeout=duration)\n",
    "\n",
    "    try:\n",
    "        print(\"You said: \" + recognizer.recognize_google(audio))\n",
    "    except sr.UnknownValueError:\n",
    "        print(\"Sorry, I could not understand the audio.\")\n",
    "    except sr.RequestError as e:\n",
    "        print(f\"Could not request results; {e}\")"
   ]
  },
  {
   "cell_type": "code",
   "execution_count": 14,
   "id": "b820af1f-0be9-47d6-910a-98c8034bcb19",
   "metadata": {},
   "outputs": [
    {
     "name": "stdout",
     "output_type": "stream",
     "text": [
      "\n",
      "Speech Recognition System\n",
      "1. Transcribe Audio File\n",
      "2. Transcribe from Microphone\n",
      "3. Exit\n"
     ]
    },
    {
     "name": "stdin",
     "output_type": "stream",
     "text": [
      "Enter your choice:  2\n",
      "Enter duration in seconds (default is 5):  5\n"
     ]
    },
    {
     "name": "stdout",
     "output_type": "stream",
     "text": [
      "Please say something...\n",
      "You said: how are you\n",
      "\n",
      "Speech Recognition System\n",
      "1. Transcribe Audio File\n",
      "2. Transcribe from Microphone\n",
      "3. Exit\n"
     ]
    },
    {
     "name": "stdin",
     "output_type": "stream",
     "text": [
      "Enter your choice:  3\n"
     ]
    },
    {
     "name": "stdout",
     "output_type": "stream",
     "text": [
      "Exiting...\n"
     ]
    }
   ],
   "source": [
    "while True:\n",
    "    print(\"\\nSpeech Recognition System\")\n",
    "    print(\"1. Transcribe Audio File\")\n",
    "    print(\"2. Transcribe from Microphone\")\n",
    "    print(\"3. Exit\")\n",
    "\n",
    "    # Get user input for selection\n",
    "    choice = input(\"Enter your choice: \")\n",
    "\n",
    "    if choice == \"1\":\n",
    "        path = input(\"Enter path to WAV file: \")\n",
    "        transcribe_audio_file(path)  # Call function to transcribe audio file\n",
    "    elif choice == \"2\":\n",
    "        dur = input(\"Enter duration in seconds (default is 5): \")\n",
    "        try:\n",
    "            dur = int(dur)\n",
    "        except:\n",
    "            dur = 5  \n",
    "        transcribe_from_microphone(duration=dur)  # Call function to transcribe from microphone\n",
    "    elif choice == \"3\":\n",
    "        print(\"Exiting...\")\n",
    "        break  \n",
    "    else:\n",
    "        print(\"Invalid choice.\")  \n"
   ]
  },
  {
   "cell_type": "markdown",
   "id": "c720eea0",
   "metadata": {},
   "source": [
    "## ✅ How to Use\n",
    "1. Run the above code cell to load all classes and functions.\n",
    "2. Use the CLI options:\n",
    "   - Enter `1` to transcribe a `.wav` file\n",
    "   - Enter `2` for microphone input (with specified duration)\n",
    "   - Enter `3` to exit the program\n",
    "\n",
    "📂 Make sure the audio file is in `.wav` format and is clearly spoken in English."
   ]
  }
 ],
 "metadata": {
  "kernelspec": {
   "display_name": "Python 3 (ipykernel)",
   "language": "python",
   "name": "python3"
  },
  "language_info": {
   "codemirror_mode": {
    "name": "ipython",
    "version": 3
   },
   "file_extension": ".py",
   "mimetype": "text/x-python",
   "name": "python",
   "nbconvert_exporter": "python",
   "pygments_lexer": "ipython3",
   "version": "3.12.7"
  }
 },
 "nbformat": 4,
 "nbformat_minor": 5
}
